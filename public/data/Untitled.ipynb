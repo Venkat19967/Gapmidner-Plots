{
 "metadata": {
  "language_info": {
   "codemirror_mode": {
    "name": "ipython",
    "version": 3
   },
   "file_extension": ".py",
   "mimetype": "text/x-python",
   "name": "python",
   "nbconvert_exporter": "python",
   "pygments_lexer": "ipython3",
   "version": "2.7.16-final"
  },
  "orig_nbformat": 2,
  "kernelspec": {
   "name": "Python 2.7.16 64-bit",
   "display_name": "Python 2.7.16 64-bit",
   "metadata": {
    "interpreter": {
     "hash": "767d51c1340bd893661ea55ea3124f6de3c7a262a8b4abca0554b478b1e2ff90"
    }
   }
  }
 },
 "nbformat": 4,
 "nbformat_minor": 2,
 "cells": [
  {
   "cell_type": "code",
   "execution_count": 5,
   "metadata": {},
   "outputs": [],
   "source": [
    "import pandas as pd\n",
    "import json"
   ]
  },
  {
   "cell_type": "code",
   "execution_count": 6,
   "metadata": {},
   "outputs": [],
   "source": [
    "income = pd.read_csv(\"income_per_person_gdppercapita_ppp_inflation_adjusted.csv\")\n",
    "tsunami = pd.read_csv(\"tsunami_affected_annual_number.csv\")\n",
    "regions = pd.read_csv(\"countries_regions.csv\")\n",
    "children = pd.read_csv(\"child_mortality_0_5_year_olds_dying_per_1000_born.csv\")\n",
    "life = pd.read_csv(\"life_expectancy_years.csv\")\n",
    "population = pd.read_csv(\"population_total.csv\")"
   ]
  },
  {
   "cell_type": "code",
   "execution_count": 7,
   "metadata": {},
   "outputs": [
    {
     "output_type": "execute_result",
     "data": {
      "text/plain": "nan"
     },
     "metadata": {},
     "execution_count": 7
    }
   ],
   "source": [
    "tsunami['1979'][0]"
   ]
  },
  {
   "cell_type": "code",
   "execution_count": 8,
   "metadata": {},
   "outputs": [
    {
     "output_type": "execute_result",
     "data": {
      "text/plain": "Index([u&#39;country&#39;, u&#39;1979&#39;, u&#39;1980&#39;, u&#39;1981&#39;, u&#39;1982&#39;, u&#39;1983&#39;, u&#39;1984&#39;,\n       u&#39;1985&#39;, u&#39;1986&#39;, u&#39;1987&#39;, u&#39;1988&#39;, u&#39;1989&#39;, u&#39;1990&#39;, u&#39;1991&#39;, u&#39;1992&#39;,\n       u&#39;1993&#39;, u&#39;1994&#39;, u&#39;1995&#39;, u&#39;1996&#39;, u&#39;1997&#39;, u&#39;1998&#39;, u&#39;1999&#39;, u&#39;2000&#39;,\n       u&#39;2001&#39;, u&#39;2002&#39;, u&#39;2003&#39;, u&#39;2004&#39;, u&#39;2005&#39;, u&#39;2006&#39;, u&#39;2007&#39;],\n      dtype=&#39;object&#39;)"
     },
     "metadata": {},
     "execution_count": 8
    }
   ],
   "source": [
    "tsunami.columns"
   ]
  },
  {
   "cell_type": "code",
   "execution_count": 9,
   "metadata": {},
   "outputs": [
    {
     "output_type": "execute_result",
     "data": {
      "text/plain": "dtype(&#39;O&#39;)"
     },
     "metadata": {},
     "execution_count": 9
    }
   ],
   "source": [
    "tsunami['country'].dtype"
   ]
  },
  {
   "cell_type": "code",
   "execution_count": 10,
   "metadata": {},
   "outputs": [],
   "source": [
    "tsunami[1800] = ''\n"
   ]
  },
  {
   "cell_type": "code",
   "execution_count": 11,
   "metadata": {},
   "outputs": [
    {
     "output_type": "execute_result",
     "data": {
      "text/plain": "numpy.float64"
     },
     "metadata": {},
     "execution_count": 11
    }
   ],
   "source": [
    "type(tsunami['1979'][0])"
   ]
  },
  {
   "cell_type": "code",
   "execution_count": 12,
   "metadata": {
    "tags": []
   },
   "outputs": [
    {
     "output_type": "stream",
     "name": "stdout",
     "text": "nan\n0.0\nnan\nnan\n0.0\nnan\nnan\nnan\nnan\nnan\nnan\nnan\nnan\nnan\nnan\nnan\nnan\nnan\n"
    }
   ],
   "source": [
    "for i,j in tsunami.iterrows():\n",
    "    print (j['1980'])"
   ]
  },
  {
   "cell_type": "code",
   "execution_count": 13,
   "metadata": {},
   "outputs": [
    {
     "output_type": "execute_result",
     "data": {
      "text/html": "<div>\n<style scoped>\n    .dataframe tbody tr th:only-of-type {\n        vertical-align: middle;\n    }\n\n    .dataframe tbody tr th {\n        vertical-align: top;\n    }\n\n    .dataframe thead th {\n        text-align: right;\n    }\n</style>\n<table border=\"1\" class=\"dataframe\">\n  <thead>\n    <tr style=\"text-align: right;\">\n      <th></th>\n      <th>geo</th>\n      <th>name</th>\n      <th>World bank region</th>\n    </tr>\n  </thead>\n  <tbody>\n    <tr>\n      <th>0</th>\n      <td>afg</td>\n      <td>Afghanistan</td>\n      <td>South Asia</td>\n    </tr>\n    <tr>\n      <th>1</th>\n      <td>alb</td>\n      <td>Albania</td>\n      <td>Europe &amp; Central Asia</td>\n    </tr>\n    <tr>\n      <th>2</th>\n      <td>dza</td>\n      <td>Algeria</td>\n      <td>Middle East &amp; North Africa</td>\n    </tr>\n    <tr>\n      <th>3</th>\n      <td>and</td>\n      <td>Andorra</td>\n      <td>Europe &amp; Central Asia</td>\n    </tr>\n    <tr>\n      <th>4</th>\n      <td>ago</td>\n      <td>Angola</td>\n      <td>Sub-Saharan Africa</td>\n    </tr>\n    <tr>\n      <th>5</th>\n      <td>atg</td>\n      <td>Antigua and Barbuda</td>\n      <td>Latin America &amp; Caribbean</td>\n    </tr>\n    <tr>\n      <th>6</th>\n      <td>arg</td>\n      <td>Argentina</td>\n      <td>Latin America &amp; Caribbean</td>\n    </tr>\n    <tr>\n      <th>7</th>\n      <td>arm</td>\n      <td>Armenia</td>\n      <td>Europe &amp; Central Asia</td>\n    </tr>\n    <tr>\n      <th>8</th>\n      <td>aus</td>\n      <td>Australia</td>\n      <td>East Asia &amp; Pacific</td>\n    </tr>\n    <tr>\n      <th>9</th>\n      <td>aut</td>\n      <td>Austria</td>\n      <td>Europe &amp; Central Asia</td>\n    </tr>\n    <tr>\n      <th>10</th>\n      <td>aze</td>\n      <td>Azerbaijan</td>\n      <td>Europe &amp; Central Asia</td>\n    </tr>\n    <tr>\n      <th>11</th>\n      <td>bhs</td>\n      <td>Bahamas</td>\n      <td>Latin America &amp; Caribbean</td>\n    </tr>\n    <tr>\n      <th>12</th>\n      <td>bhr</td>\n      <td>Bahrain</td>\n      <td>Middle East &amp; North Africa</td>\n    </tr>\n    <tr>\n      <th>13</th>\n      <td>bgd</td>\n      <td>Bangladesh</td>\n      <td>South Asia</td>\n    </tr>\n    <tr>\n      <th>14</th>\n      <td>brb</td>\n      <td>Barbados</td>\n      <td>Latin America &amp; Caribbean</td>\n    </tr>\n    <tr>\n      <th>15</th>\n      <td>blr</td>\n      <td>Belarus</td>\n      <td>Europe &amp; Central Asia</td>\n    </tr>\n    <tr>\n      <th>16</th>\n      <td>bel</td>\n      <td>Belgium</td>\n      <td>Europe &amp; Central Asia</td>\n    </tr>\n    <tr>\n      <th>17</th>\n      <td>blz</td>\n      <td>Belize</td>\n      <td>Latin America &amp; Caribbean</td>\n    </tr>\n    <tr>\n      <th>18</th>\n      <td>ben</td>\n      <td>Benin</td>\n      <td>Sub-Saharan Africa</td>\n    </tr>\n    <tr>\n      <th>19</th>\n      <td>btn</td>\n      <td>Bhutan</td>\n      <td>South Asia</td>\n    </tr>\n    <tr>\n      <th>20</th>\n      <td>bol</td>\n      <td>Bolivia</td>\n      <td>Latin America &amp; Caribbean</td>\n    </tr>\n    <tr>\n      <th>21</th>\n      <td>bih</td>\n      <td>Bosnia and Herzegovina</td>\n      <td>Europe &amp; Central Asia</td>\n    </tr>\n    <tr>\n      <th>22</th>\n      <td>bwa</td>\n      <td>Botswana</td>\n      <td>Sub-Saharan Africa</td>\n    </tr>\n    <tr>\n      <th>23</th>\n      <td>bra</td>\n      <td>Brazil</td>\n      <td>Latin America &amp; Caribbean</td>\n    </tr>\n    <tr>\n      <th>24</th>\n      <td>brn</td>\n      <td>Brunei</td>\n      <td>East Asia &amp; Pacific</td>\n    </tr>\n    <tr>\n      <th>25</th>\n      <td>bgr</td>\n      <td>Bulgaria</td>\n      <td>Europe &amp; Central Asia</td>\n    </tr>\n    <tr>\n      <th>26</th>\n      <td>bfa</td>\n      <td>Burkina Faso</td>\n      <td>Sub-Saharan Africa</td>\n    </tr>\n    <tr>\n      <th>27</th>\n      <td>bdi</td>\n      <td>Burundi</td>\n      <td>Sub-Saharan Africa</td>\n    </tr>\n    <tr>\n      <th>28</th>\n      <td>khm</td>\n      <td>Cambodia</td>\n      <td>East Asia &amp; Pacific</td>\n    </tr>\n    <tr>\n      <th>29</th>\n      <td>cmr</td>\n      <td>Cameroon</td>\n      <td>Sub-Saharan Africa</td>\n    </tr>\n    <tr>\n      <th>...</th>\n      <td>...</td>\n      <td>...</td>\n      <td>...</td>\n    </tr>\n    <tr>\n      <th>167</th>\n      <td>swe</td>\n      <td>Sweden</td>\n      <td>Europe &amp; Central Asia</td>\n    </tr>\n    <tr>\n      <th>168</th>\n      <td>che</td>\n      <td>Switzerland</td>\n      <td>Europe &amp; Central Asia</td>\n    </tr>\n    <tr>\n      <th>169</th>\n      <td>syr</td>\n      <td>Syria</td>\n      <td>Middle East &amp; North Africa</td>\n    </tr>\n    <tr>\n      <th>170</th>\n      <td>twn</td>\n      <td>Taiwan</td>\n      <td>East Asia &amp; Pacific</td>\n    </tr>\n    <tr>\n      <th>171</th>\n      <td>tjk</td>\n      <td>Tajikistan</td>\n      <td>Europe &amp; Central Asia</td>\n    </tr>\n    <tr>\n      <th>172</th>\n      <td>tza</td>\n      <td>Tanzania</td>\n      <td>Sub-Saharan Africa</td>\n    </tr>\n    <tr>\n      <th>173</th>\n      <td>tha</td>\n      <td>Thailand</td>\n      <td>East Asia &amp; Pacific</td>\n    </tr>\n    <tr>\n      <th>174</th>\n      <td>tls</td>\n      <td>Timor-Leste</td>\n      <td>East Asia &amp; Pacific</td>\n    </tr>\n    <tr>\n      <th>175</th>\n      <td>tgo</td>\n      <td>Togo</td>\n      <td>Sub-Saharan Africa</td>\n    </tr>\n    <tr>\n      <th>176</th>\n      <td>ton</td>\n      <td>Tonga</td>\n      <td>East Asia &amp; Pacific</td>\n    </tr>\n    <tr>\n      <th>177</th>\n      <td>tto</td>\n      <td>Trinidad and Tobago</td>\n      <td>Latin America &amp; Caribbean</td>\n    </tr>\n    <tr>\n      <th>178</th>\n      <td>tun</td>\n      <td>Tunisia</td>\n      <td>Middle East &amp; North Africa</td>\n    </tr>\n    <tr>\n      <th>179</th>\n      <td>tur</td>\n      <td>Turkey</td>\n      <td>Europe &amp; Central Asia</td>\n    </tr>\n    <tr>\n      <th>180</th>\n      <td>tkm</td>\n      <td>Turkmenistan</td>\n      <td>Europe &amp; Central Asia</td>\n    </tr>\n    <tr>\n      <th>181</th>\n      <td>tuv</td>\n      <td>Tuvalu</td>\n      <td>East Asia &amp; Pacific</td>\n    </tr>\n    <tr>\n      <th>182</th>\n      <td>uga</td>\n      <td>Uganda</td>\n      <td>Sub-Saharan Africa</td>\n    </tr>\n    <tr>\n      <th>183</th>\n      <td>ukr</td>\n      <td>Ukraine</td>\n      <td>Europe &amp; Central Asia</td>\n    </tr>\n    <tr>\n      <th>184</th>\n      <td>are</td>\n      <td>United Arab Emirates</td>\n      <td>Middle East &amp; North Africa</td>\n    </tr>\n    <tr>\n      <th>185</th>\n      <td>gbr</td>\n      <td>United Kingdom</td>\n      <td>Europe &amp; Central Asia</td>\n    </tr>\n    <tr>\n      <th>186</th>\n      <td>usa</td>\n      <td>United States</td>\n      <td>North America</td>\n    </tr>\n    <tr>\n      <th>187</th>\n      <td>ury</td>\n      <td>Uruguay</td>\n      <td>Latin America &amp; Caribbean</td>\n    </tr>\n    <tr>\n      <th>188</th>\n      <td>uzb</td>\n      <td>Uzbekistan</td>\n      <td>Europe &amp; Central Asia</td>\n    </tr>\n    <tr>\n      <th>189</th>\n      <td>vut</td>\n      <td>Vanuatu</td>\n      <td>East Asia &amp; Pacific</td>\n    </tr>\n    <tr>\n      <th>190</th>\n      <td>ven</td>\n      <td>Venezuela</td>\n      <td>Latin America &amp; Caribbean</td>\n    </tr>\n    <tr>\n      <th>191</th>\n      <td>pse</td>\n      <td>Palestine</td>\n      <td>Middle East &amp; North Africa</td>\n    </tr>\n    <tr>\n      <th>192</th>\n      <td>vnm</td>\n      <td>Vietnam</td>\n      <td>East Asia &amp; Pacific</td>\n    </tr>\n    <tr>\n      <th>193</th>\n      <td>yem</td>\n      <td>Yemen</td>\n      <td>Middle East &amp; North Africa</td>\n    </tr>\n    <tr>\n      <th>194</th>\n      <td>zmb</td>\n      <td>Zambia</td>\n      <td>Sub-Saharan Africa</td>\n    </tr>\n    <tr>\n      <th>195</th>\n      <td>zwe</td>\n      <td>Zimbabwe</td>\n      <td>Sub-Saharan Africa</td>\n    </tr>\n    <tr>\n      <th>196</th>\n      <td>ssd</td>\n      <td>South Sudan</td>\n      <td>Sub-Saharan Africa</td>\n    </tr>\n  </tbody>\n</table>\n<p>197 rows × 3 columns</p>\n</div>",
      "text/plain": "     geo                    name           World bank region\n0    afg             Afghanistan                  South Asia\n1    alb                 Albania       Europe &amp; Central Asia\n2    dza                 Algeria  Middle East &amp; North Africa\n3    and                 Andorra       Europe &amp; Central Asia\n4    ago                  Angola          Sub-Saharan Africa\n5    atg     Antigua and Barbuda   Latin America &amp; Caribbean\n6    arg               Argentina   Latin America &amp; Caribbean\n7    arm                 Armenia       Europe &amp; Central Asia\n8    aus               Australia         East Asia &amp; Pacific\n9    aut                 Austria       Europe &amp; Central Asia\n10   aze              Azerbaijan       Europe &amp; Central Asia\n11   bhs                 Bahamas   Latin America &amp; Caribbean\n12   bhr                 Bahrain  Middle East &amp; North Africa\n13   bgd              Bangladesh                  South Asia\n14   brb                Barbados   Latin America &amp; Caribbean\n15   blr                 Belarus       Europe &amp; Central Asia\n16   bel                 Belgium       Europe &amp; Central Asia\n17   blz                  Belize   Latin America &amp; Caribbean\n18   ben                   Benin          Sub-Saharan Africa\n19   btn                  Bhutan                  South Asia\n20   bol                 Bolivia   Latin America &amp; Caribbean\n21   bih  Bosnia and Herzegovina       Europe &amp; Central Asia\n22   bwa                Botswana          Sub-Saharan Africa\n23   bra                  Brazil   Latin America &amp; Caribbean\n24   brn                  Brunei         East Asia &amp; Pacific\n25   bgr                Bulgaria       Europe &amp; Central Asia\n26   bfa            Burkina Faso          Sub-Saharan Africa\n27   bdi                 Burundi          Sub-Saharan Africa\n28   khm                Cambodia         East Asia &amp; Pacific\n29   cmr                Cameroon          Sub-Saharan Africa\n..   ...                     ...                         ...\n167  swe                  Sweden       Europe &amp; Central Asia\n168  che             Switzerland       Europe &amp; Central Asia\n169  syr                   Syria  Middle East &amp; North Africa\n170  twn                  Taiwan         East Asia &amp; Pacific\n171  tjk              Tajikistan       Europe &amp; Central Asia\n172  tza                Tanzania          Sub-Saharan Africa\n173  tha                Thailand         East Asia &amp; Pacific\n174  tls             Timor-Leste         East Asia &amp; Pacific\n175  tgo                    Togo          Sub-Saharan Africa\n176  ton                   Tonga         East Asia &amp; Pacific\n177  tto     Trinidad and Tobago   Latin America &amp; Caribbean\n178  tun                 Tunisia  Middle East &amp; North Africa\n179  tur                  Turkey       Europe &amp; Central Asia\n180  tkm            Turkmenistan       Europe &amp; Central Asia\n181  tuv                  Tuvalu         East Asia &amp; Pacific\n182  uga                  Uganda          Sub-Saharan Africa\n183  ukr                 Ukraine       Europe &amp; Central Asia\n184  are    United Arab Emirates  Middle East &amp; North Africa\n185  gbr          United Kingdom       Europe &amp; Central Asia\n186  usa           United States               North America\n187  ury                 Uruguay   Latin America &amp; Caribbean\n188  uzb              Uzbekistan       Europe &amp; Central Asia\n189  vut                 Vanuatu         East Asia &amp; Pacific\n190  ven               Venezuela   Latin America &amp; Caribbean\n191  pse               Palestine  Middle East &amp; North Africa\n192  vnm                 Vietnam         East Asia &amp; Pacific\n193  yem                   Yemen  Middle East &amp; North Africa\n194  zmb                  Zambia          Sub-Saharan Africa\n195  zwe                Zimbabwe          Sub-Saharan Africa\n196  ssd             South Sudan          Sub-Saharan Africa\n\n[197 rows x 3 columns]"
     },
     "metadata": {},
     "execution_count": 13
    }
   ],
   "source": [
    "regions"
   ]
  },
  {
   "cell_type": "code",
   "execution_count": 14,
   "metadata": {
    "tags": []
   },
   "outputs": [
    {
     "output_type": "stream",
     "name": "stdout",
     "text": "Afghanistan\nAlbania\nAlgeria\nAndorra\nAngola\nAntigua and Barbuda\nArgentina\nArmenia\nAustralia\nAustria\nAzerbaijan\nBahamas\nBahrain\nBangladesh\nBarbados\nBelarus\nBelgium\nBelize\nBenin\nBhutan\nBolivia\nBosnia and Herzegovina\nBotswana\nBrazil\nBrunei\nBulgaria\nBurkina Faso\nBurundi\nCambodia\nCameroon\nCanada\nCape Verde\nCentral African Republic\nChad\nChile\nChina\nColombia\nComoros\nCongo, Dem. Rep.\nCongo, Rep.\nCosta Rica\nCote d&#39;Ivoire\nCroatia\nCuba\nCyprus\nCzech Republic\nDenmark\nDjibouti\nDominica\nDominican Republic\nEcuador\nEgypt\nEl Salvador\nEquatorial Guinea\nEritrea\nEstonia\nEthiopia\nFiji\nFinland\nFrance\nGabon\nGambia\nGeorgia\nGermany\nGhana\nGreece\nGrenada\nGuatemala\nGuinea\nGuinea-Bissau\nGuyana\nHaiti\nHoly See\nHonduras\nHong Kong, China\nHungary\nIceland\nIndia\nIndonesia\nIran\nIraq\nIreland\nIsrael\nItaly\nJamaica\nJapan\nJordan\nKazakhstan\nKenya\nKiribati\nNorth Korea\nSouth Korea\nKuwait\nKyrgyz Republic\nLao\nLatvia\nLebanon\nLesotho\nLiberia\nLibya\nLiechtenstein\nLithuania\nLuxembourg\nMacedonia, FYR\nMadagascar\nMalawi\nMalaysia\nMaldives\nMali\nMalta\nMarshall Islands\nMauritania\nMauritius\nMexico\nMicronesia, Fed. Sts.\nMoldova\nMonaco\nMongolia\nMontenegro\nMorocco\nMozambique\nMyanmar\nNamibia\nNauru\nNepal\nNetherlands\nNew Zealand\nNicaragua\nNiger\nNigeria\nNorway\nOman\nPakistan\nPalau\nPanama\nPapua New Guinea\nParaguay\nPeru\nPhilippines\nPoland\nPortugal\nQatar\nRomania\nRussia\nRwanda\nSt. Kitts and Nevis\nSt. Lucia\nSt. Vincent and the Grenadines\nSamoa\nSan Marino\nSao Tome and Principe\nSaudi Arabia\nSenegal\nSerbia\nSeychelles\nSierra Leone\nSingapore\nSlovak Republic\nSlovenia\nSolomon Islands\nSomalia\nSouth Africa\nSpain\nSri Lanka\nSudan\nSuriname\nSwaziland\nSweden\nSwitzerland\nSyria\nTaiwan\nTajikistan\nTanzania\nThailand\nTimor-Leste\nTogo\nTonga\nTrinidad and Tobago\nTunisia\nTurkey\nTurkmenistan\nTuvalu\nUganda\nUkraine\nUnited Arab Emirates\nUnited Kingdom\nUnited States\nUruguay\nUzbekistan\nVanuatu\nVenezuela\nPalestine\nVietnam\nYemen\nZambia\nZimbabwe\nSouth Sudan\n"
    }
   ],
   "source": [
    "for i in regions['name']:\n",
    "    print i"
   ]
  },
  {
   "cell_type": "code",
   "execution_count": 15,
   "metadata": {},
   "outputs": [
    {
     "output_type": "execute_result",
     "data": {
      "text/html": "<div>\n<style scoped>\n    .dataframe tbody tr th:only-of-type {\n        vertical-align: middle;\n    }\n\n    .dataframe tbody tr th {\n        vertical-align: top;\n    }\n\n    .dataframe thead th {\n        text-align: right;\n    }\n</style>\n<table border=\"1\" class=\"dataframe\">\n  <thead>\n    <tr style=\"text-align: right;\">\n      <th></th>\n      <th>country</th>\n      <th>1979</th>\n      <th>1980</th>\n      <th>1981</th>\n      <th>1982</th>\n      <th>1983</th>\n      <th>1984</th>\n      <th>1985</th>\n      <th>1986</th>\n      <th>1987</th>\n      <th>...</th>\n      <th>1999</th>\n      <th>2000</th>\n      <th>2001</th>\n      <th>2002</th>\n      <th>2003</th>\n      <th>2004</th>\n      <th>2005</th>\n      <th>2006</th>\n      <th>2007</th>\n      <th>1800</th>\n    </tr>\n  </thead>\n  <tbody>\n    <tr>\n      <th>0</th>\n      <td>Bangladesh</td>\n      <td>NaN</td>\n      <td>NaN</td>\n      <td>NaN</td>\n      <td>NaN</td>\n      <td>NaN</td>\n      <td>NaN</td>\n      <td>NaN</td>\n      <td>NaN</td>\n      <td>NaN</td>\n      <td>...</td>\n      <td>NaN</td>\n      <td>NaN</td>\n      <td>NaN</td>\n      <td>NaN</td>\n      <td>NaN</td>\n      <td>2.0</td>\n      <td>NaN</td>\n      <td>NaN</td>\n      <td>NaN</td>\n      <td></td>\n    </tr>\n    <tr>\n      <th>1</th>\n      <td>France</td>\n      <td>13.0</td>\n      <td>0.0</td>\n      <td>NaN</td>\n      <td>NaN</td>\n      <td>NaN</td>\n      <td>NaN</td>\n      <td>NaN</td>\n      <td>NaN</td>\n      <td>NaN</td>\n      <td>...</td>\n      <td>NaN</td>\n      <td>NaN</td>\n      <td>NaN</td>\n      <td>NaN</td>\n      <td>NaN</td>\n      <td>NaN</td>\n      <td>NaN</td>\n      <td>NaN</td>\n      <td>NaN</td>\n      <td></td>\n    </tr>\n    <tr>\n      <th>2</th>\n      <td>Honduras</td>\n      <td>NaN</td>\n      <td>NaN</td>\n      <td>NaN</td>\n      <td>NaN</td>\n      <td>NaN</td>\n      <td>NaN</td>\n      <td>NaN</td>\n      <td>NaN</td>\n      <td>NaN</td>\n      <td>...</td>\n      <td>NaN</td>\n      <td>NaN</td>\n      <td>NaN</td>\n      <td>1720.0</td>\n      <td>NaN</td>\n      <td>NaN</td>\n      <td>NaN</td>\n      <td>NaN</td>\n      <td>NaN</td>\n      <td></td>\n    </tr>\n    <tr>\n      <th>3</th>\n      <td>India</td>\n      <td>NaN</td>\n      <td>NaN</td>\n      <td>NaN</td>\n      <td>NaN</td>\n      <td>NaN</td>\n      <td>NaN</td>\n      <td>NaN</td>\n      <td>NaN</td>\n      <td>NaN</td>\n      <td>...</td>\n      <td>NaN</td>\n      <td>NaN</td>\n      <td>NaN</td>\n      <td>NaN</td>\n      <td>NaN</td>\n      <td>671000.0</td>\n      <td>NaN</td>\n      <td>NaN</td>\n      <td>NaN</td>\n      <td></td>\n    </tr>\n    <tr>\n      <th>4</th>\n      <td>Indonesia</td>\n      <td>562.0</td>\n      <td>0.0</td>\n      <td>NaN</td>\n      <td>NaN</td>\n      <td>NaN</td>\n      <td>NaN</td>\n      <td>NaN</td>\n      <td>NaN</td>\n      <td>NaN</td>\n      <td>...</td>\n      <td>NaN</td>\n      <td>NaN</td>\n      <td>NaN</td>\n      <td>NaN</td>\n      <td>0.0</td>\n      <td>699000.0</td>\n      <td>0.0</td>\n      <td>36300.0</td>\n      <td>NaN</td>\n      <td></td>\n    </tr>\n    <tr>\n      <th>5</th>\n      <td>Kenya</td>\n      <td>NaN</td>\n      <td>NaN</td>\n      <td>NaN</td>\n      <td>NaN</td>\n      <td>NaN</td>\n      <td>NaN</td>\n      <td>NaN</td>\n      <td>NaN</td>\n      <td>NaN</td>\n      <td>...</td>\n      <td>NaN</td>\n      <td>NaN</td>\n      <td>NaN</td>\n      <td>NaN</td>\n      <td>NaN</td>\n      <td>1.0</td>\n      <td>NaN</td>\n      <td>NaN</td>\n      <td>NaN</td>\n      <td></td>\n    </tr>\n    <tr>\n      <th>6</th>\n      <td>Malaysia</td>\n      <td>NaN</td>\n      <td>NaN</td>\n      <td>NaN</td>\n      <td>NaN</td>\n      <td>NaN</td>\n      <td>NaN</td>\n      <td>NaN</td>\n      <td>NaN</td>\n      <td>NaN</td>\n      <td>...</td>\n      <td>NaN</td>\n      <td>NaN</td>\n      <td>NaN</td>\n      <td>NaN</td>\n      <td>NaN</td>\n      <td>5140.0</td>\n      <td>NaN</td>\n      <td>NaN</td>\n      <td>NaN</td>\n      <td></td>\n    </tr>\n    <tr>\n      <th>7</th>\n      <td>Maldives</td>\n      <td>NaN</td>\n      <td>NaN</td>\n      <td>NaN</td>\n      <td>NaN</td>\n      <td>NaN</td>\n      <td>NaN</td>\n      <td>NaN</td>\n      <td>NaN</td>\n      <td>NaN</td>\n      <td>...</td>\n      <td>NaN</td>\n      <td>NaN</td>\n      <td>NaN</td>\n      <td>NaN</td>\n      <td>NaN</td>\n      <td>27300.0</td>\n      <td>NaN</td>\n      <td>NaN</td>\n      <td>NaN</td>\n      <td></td>\n    </tr>\n    <tr>\n      <th>8</th>\n      <td>Myanmar</td>\n      <td>NaN</td>\n      <td>NaN</td>\n      <td>NaN</td>\n      <td>NaN</td>\n      <td>NaN</td>\n      <td>NaN</td>\n      <td>NaN</td>\n      <td>NaN</td>\n      <td>NaN</td>\n      <td>...</td>\n      <td>NaN</td>\n      <td>NaN</td>\n      <td>NaN</td>\n      <td>NaN</td>\n      <td>NaN</td>\n      <td>15800.0</td>\n      <td>NaN</td>\n      <td>NaN</td>\n      <td>NaN</td>\n      <td></td>\n    </tr>\n    <tr>\n      <th>9</th>\n      <td>Papua New Guinea</td>\n      <td>NaN</td>\n      <td>NaN</td>\n      <td>NaN</td>\n      <td>NaN</td>\n      <td>NaN</td>\n      <td>NaN</td>\n      <td>NaN</td>\n      <td>NaN</td>\n      <td>NaN</td>\n      <td>...</td>\n      <td>NaN</td>\n      <td>NaN</td>\n      <td>NaN</td>\n      <td>NaN</td>\n      <td>NaN</td>\n      <td>NaN</td>\n      <td>NaN</td>\n      <td>NaN</td>\n      <td>NaN</td>\n      <td></td>\n    </tr>\n    <tr>\n      <th>10</th>\n      <td>Peru</td>\n      <td>NaN</td>\n      <td>NaN</td>\n      <td>NaN</td>\n      <td>NaN</td>\n      <td>NaN</td>\n      <td>NaN</td>\n      <td>NaN</td>\n      <td>NaN</td>\n      <td>NaN</td>\n      <td>...</td>\n      <td>NaN</td>\n      <td>NaN</td>\n      <td>NaN</td>\n      <td>NaN</td>\n      <td>NaN</td>\n      <td>NaN</td>\n      <td>NaN</td>\n      <td>NaN</td>\n      <td>NaN</td>\n      <td></td>\n    </tr>\n    <tr>\n      <th>11</th>\n      <td>Seychelles</td>\n      <td>NaN</td>\n      <td>NaN</td>\n      <td>NaN</td>\n      <td>NaN</td>\n      <td>NaN</td>\n      <td>NaN</td>\n      <td>NaN</td>\n      <td>NaN</td>\n      <td>NaN</td>\n      <td>...</td>\n      <td>NaN</td>\n      <td>NaN</td>\n      <td>NaN</td>\n      <td>NaN</td>\n      <td>NaN</td>\n      <td>4830.0</td>\n      <td>NaN</td>\n      <td>NaN</td>\n      <td>NaN</td>\n      <td></td>\n    </tr>\n    <tr>\n      <th>12</th>\n      <td>Solomon Islands</td>\n      <td>NaN</td>\n      <td>NaN</td>\n      <td>NaN</td>\n      <td>NaN</td>\n      <td>NaN</td>\n      <td>NaN</td>\n      <td>NaN</td>\n      <td>NaN</td>\n      <td>NaN</td>\n      <td>...</td>\n      <td>NaN</td>\n      <td>NaN</td>\n      <td>NaN</td>\n      <td>NaN</td>\n      <td>NaN</td>\n      <td>NaN</td>\n      <td>NaN</td>\n      <td>NaN</td>\n      <td>2440.0</td>\n      <td></td>\n    </tr>\n    <tr>\n      <th>13</th>\n      <td>Somalia</td>\n      <td>NaN</td>\n      <td>NaN</td>\n      <td>NaN</td>\n      <td>NaN</td>\n      <td>NaN</td>\n      <td>NaN</td>\n      <td>NaN</td>\n      <td>NaN</td>\n      <td>NaN</td>\n      <td>...</td>\n      <td>NaN</td>\n      <td>NaN</td>\n      <td>NaN</td>\n      <td>NaN</td>\n      <td>NaN</td>\n      <td>105000.0</td>\n      <td>NaN</td>\n      <td>NaN</td>\n      <td>NaN</td>\n      <td></td>\n    </tr>\n    <tr>\n      <th>14</th>\n      <td>Sri Lanka</td>\n      <td>NaN</td>\n      <td>NaN</td>\n      <td>NaN</td>\n      <td>NaN</td>\n      <td>NaN</td>\n      <td>NaN</td>\n      <td>NaN</td>\n      <td>NaN</td>\n      <td>NaN</td>\n      <td>...</td>\n      <td>NaN</td>\n      <td>NaN</td>\n      <td>NaN</td>\n      <td>NaN</td>\n      <td>NaN</td>\n      <td>1060000.0</td>\n      <td>NaN</td>\n      <td>NaN</td>\n      <td>NaN</td>\n      <td></td>\n    </tr>\n    <tr>\n      <th>15</th>\n      <td>Tanzania</td>\n      <td>NaN</td>\n      <td>NaN</td>\n      <td>NaN</td>\n      <td>NaN</td>\n      <td>NaN</td>\n      <td>NaN</td>\n      <td>NaN</td>\n      <td>NaN</td>\n      <td>NaN</td>\n      <td>...</td>\n      <td>NaN</td>\n      <td>NaN</td>\n      <td>NaN</td>\n      <td>NaN</td>\n      <td>NaN</td>\n      <td>10.0</td>\n      <td>NaN</td>\n      <td>NaN</td>\n      <td>NaN</td>\n      <td></td>\n    </tr>\n    <tr>\n      <th>16</th>\n      <td>Thailand</td>\n      <td>NaN</td>\n      <td>NaN</td>\n      <td>NaN</td>\n      <td>NaN</td>\n      <td>NaN</td>\n      <td>NaN</td>\n      <td>NaN</td>\n      <td>NaN</td>\n      <td>NaN</td>\n      <td>...</td>\n      <td>NaN</td>\n      <td>NaN</td>\n      <td>NaN</td>\n      <td>NaN</td>\n      <td>NaN</td>\n      <td>75400.0</td>\n      <td>NaN</td>\n      <td>NaN</td>\n      <td>NaN</td>\n      <td></td>\n    </tr>\n    <tr>\n      <th>17</th>\n      <td>Vanuatu</td>\n      <td>NaN</td>\n      <td>NaN</td>\n      <td>NaN</td>\n      <td>NaN</td>\n      <td>NaN</td>\n      <td>NaN</td>\n      <td>NaN</td>\n      <td>NaN</td>\n      <td>NaN</td>\n      <td>...</td>\n      <td>NaN</td>\n      <td>NaN</td>\n      <td>NaN</td>\n      <td>NaN</td>\n      <td>NaN</td>\n      <td>NaN</td>\n      <td>NaN</td>\n      <td>NaN</td>\n      <td>NaN</td>\n      <td></td>\n    </tr>\n  </tbody>\n</table>\n<p>18 rows × 31 columns</p>\n</div>",
      "text/plain": "             country   1979  1980  1981  1982  1983  1984  1985  1986  1987  \\\n0         Bangladesh    NaN   NaN   NaN   NaN   NaN   NaN   NaN   NaN   NaN   \n1             France   13.0   0.0   NaN   NaN   NaN   NaN   NaN   NaN   NaN   \n2           Honduras    NaN   NaN   NaN   NaN   NaN   NaN   NaN   NaN   NaN   \n3              India    NaN   NaN   NaN   NaN   NaN   NaN   NaN   NaN   NaN   \n4          Indonesia  562.0   0.0   NaN   NaN   NaN   NaN   NaN   NaN   NaN   \n5              Kenya    NaN   NaN   NaN   NaN   NaN   NaN   NaN   NaN   NaN   \n6           Malaysia    NaN   NaN   NaN   NaN   NaN   NaN   NaN   NaN   NaN   \n7           Maldives    NaN   NaN   NaN   NaN   NaN   NaN   NaN   NaN   NaN   \n8            Myanmar    NaN   NaN   NaN   NaN   NaN   NaN   NaN   NaN   NaN   \n9   Papua New Guinea    NaN   NaN   NaN   NaN   NaN   NaN   NaN   NaN   NaN   \n10              Peru    NaN   NaN   NaN   NaN   NaN   NaN   NaN   NaN   NaN   \n11        Seychelles    NaN   NaN   NaN   NaN   NaN   NaN   NaN   NaN   NaN   \n12   Solomon Islands    NaN   NaN   NaN   NaN   NaN   NaN   NaN   NaN   NaN   \n13           Somalia    NaN   NaN   NaN   NaN   NaN   NaN   NaN   NaN   NaN   \n14         Sri Lanka    NaN   NaN   NaN   NaN   NaN   NaN   NaN   NaN   NaN   \n15          Tanzania    NaN   NaN   NaN   NaN   NaN   NaN   NaN   NaN   NaN   \n16          Thailand    NaN   NaN   NaN   NaN   NaN   NaN   NaN   NaN   NaN   \n17           Vanuatu    NaN   NaN   NaN   NaN   NaN   NaN   NaN   NaN   NaN   \n\n    ...  1999  2000  2001    2002  2003       2004  2005     2006    2007  \\\n0   ...   NaN   NaN   NaN     NaN   NaN        2.0   NaN      NaN     NaN   \n1   ...   NaN   NaN   NaN     NaN   NaN        NaN   NaN      NaN     NaN   \n2   ...   NaN   NaN   NaN  1720.0   NaN        NaN   NaN      NaN     NaN   \n3   ...   NaN   NaN   NaN     NaN   NaN   671000.0   NaN      NaN     NaN   \n4   ...   NaN   NaN   NaN     NaN   0.0   699000.0   0.0  36300.0     NaN   \n5   ...   NaN   NaN   NaN     NaN   NaN        1.0   NaN      NaN     NaN   \n6   ...   NaN   NaN   NaN     NaN   NaN     5140.0   NaN      NaN     NaN   \n7   ...   NaN   NaN   NaN     NaN   NaN    27300.0   NaN      NaN     NaN   \n8   ...   NaN   NaN   NaN     NaN   NaN    15800.0   NaN      NaN     NaN   \n9   ...   NaN   NaN   NaN     NaN   NaN        NaN   NaN      NaN     NaN   \n10  ...   NaN   NaN   NaN     NaN   NaN        NaN   NaN      NaN     NaN   \n11  ...   NaN   NaN   NaN     NaN   NaN     4830.0   NaN      NaN     NaN   \n12  ...   NaN   NaN   NaN     NaN   NaN        NaN   NaN      NaN  2440.0   \n13  ...   NaN   NaN   NaN     NaN   NaN   105000.0   NaN      NaN     NaN   \n14  ...   NaN   NaN   NaN     NaN   NaN  1060000.0   NaN      NaN     NaN   \n15  ...   NaN   NaN   NaN     NaN   NaN       10.0   NaN      NaN     NaN   \n16  ...   NaN   NaN   NaN     NaN   NaN    75400.0   NaN      NaN     NaN   \n17  ...   NaN   NaN   NaN     NaN   NaN        NaN   NaN      NaN     NaN   \n\n    1800  \n0         \n1         \n2         \n3         \n4         \n5         \n6         \n7         \n8         \n9         \n10        \n11        \n12        \n13        \n14        \n15        \n16        \n17        \n\n[18 rows x 31 columns]"
     },
     "metadata": {},
     "execution_count": 15
    }
   ],
   "source": [
    "tsunami"
   ]
  },
  {
   "cell_type": "code",
   "execution_count": 16,
   "metadata": {},
   "outputs": [
    {
     "output_type": "execute_result",
     "data": {
      "text/plain": "Int64Index([], dtype=&#39;int64&#39;)"
     },
     "metadata": {},
     "execution_count": 16
    }
   ],
   "source": [
    "tsunami.index[tsunami['country'].str.contains('Tuvalu')]"
   ]
  },
  {
   "cell_type": "code",
   "execution_count": 18,
   "metadata": {},
   "outputs": [],
   "source": [
    "ans = []\n",
    "max_income = 0\n",
    "max_tsunami = 0\n",
    "max_population = 0\n",
    "max_life = 0\n",
    "max_children = 0"
   ]
  },
  {
   "cell_type": "code",
   "execution_count": 19,
   "metadata": {},
   "outputs": [
    {
     "output_type": "execute_result",
     "data": {
      "text/plain": "[]"
     },
     "metadata": {},
     "execution_count": 19
    }
   ],
   "source": [
    "ans"
   ]
  },
  {
   "cell_type": "code",
   "execution_count": 20,
   "metadata": {
    "tags": []
   },
   "outputs": [],
   "source": [
    "\n",
    "for i in regions['name']:\n",
    "\n",
    "    x = {\n",
    "        \"country\" : str(i),\n",
    "        \"region\" : regions['World bank region'][regions['World bank region'][regions['name'] == str(i) ].index[0]],\n",
    "        \"code\" : regions['geo'][regions['geo'][regions['name'] == str(i)].index[0]],\n",
    "        \"income\" : [],\n",
    "        \"population\" : [],     \n",
    "        \"tsunami\" : [],\n",
    "        \"life\" : [],\n",
    "        \"children\": [],\n",
    "    }  \n",
    "    for j in range(1800,2101):\n",
    "        if tsunami.columns.contains(str(j)) and tsunami.index[tsunami['country'].str.contains(i)].size >0:\n",
    "            x['tsunami'].append(str(tsunami[str(j)][tsunami.index[tsunami['country'].str.contains(i)][0]]))\n",
    "            if tsunami[str(j)][tsunami.index[tsunami['country'].str.contains(i)][0]] > max_tsunami:\n",
    "                max_tsunami = tsunami[str(j)][tsunami.index[tsunami['country'].str.contains(i)][0]]\n",
    "        else:\n",
    "            x['tsunami'].append('NaN')\n",
    "        \n",
    "        if income.columns.contains(str(j)) and income.index[income['country'].str.contains(i)].size >0:\n",
    "            x['income'].append(str(income[str(j)][income.index[income['country'].str.contains(i)][0]]))\n",
    "            if income[str(j)][income.index[income['country'].str.contains(i)][0]] > max_income:\n",
    "                max_income = income[str(j)][income.index[income['country'].str.contains(i)][0]]\n",
    "        else:\n",
    "            x['income'].append('NaN')\n",
    "\n",
    "        if life.columns.contains(str(j)) and life.index[life['country'].str.contains(i)].size >0:\n",
    "            x['life'].append(str(life[str(j)][life.index[life['country'].str.contains(i)][0]]))\n",
    "            if life[str(j)][life.index[life['country'].str.contains(i)][0]] > max_life:\n",
    "                max_life = life[str(j)][life.index[life['country'].str.contains(i)][0]]\n",
    "        else:\n",
    "            x['life'].append('NaN')\n",
    "        \n",
    "        if population.columns.contains(str(j)) and population.index[population['country'].str.contains(i)].size >0:\n",
    "            x['population'].append(str(population[str(j)][population.index[population['country'].str.contains(i)][0]]))\n",
    "            if population[str(j)][population.index[population['country'].str.contains(i)][0]] > max_population:\n",
    "                max_population = population[str(j)][population.index[population['country'].str.contains(i)][0]]\n",
    "        else:\n",
    "            x['population'].append('NaN')\n",
    "        \n",
    "        if children.columns.contains(str(j)) and children.index[children['country'].str.contains(i)].size >0:\n",
    "            x['children'].append(str(children[str(j)][children.index[children['country'].str.contains(i)][0]]))\n",
    "            if children[str(j)][children.index[children['country'].str.contains(i)][0]] > max_children:\n",
    "                max_children = children[str(j)][children.index[children['country'].str.contains(i)][0]]\n",
    "        else:\n",
    "            x['children'].append('NaN')\n",
    "    ans.append(x)\n",
    "\n",
    "max_values = {\n",
    "    \"max_income\" : str(max_income),\n",
    "    \"max_tsunami\" : str(max_tsunami),\n",
    "    \"max_population\" : str(max_population),\n",
    "    \"max_life\" : str(max_life),\n",
    "    \"max_children\" : str(max_children),\n",
    "}\n",
    "\n",
    "        "
   ]
  },
  {
   "cell_type": "code",
   "execution_count": 21,
   "metadata": {},
   "outputs": [
    {
     "output_type": "execute_result",
     "data": {
      "text/plain": "{&#39;max_children&#39;: &#39;756.0&#39;,\n &#39;max_income&#39;: &#39;179000&#39;,\n &#39;max_life&#39;: &#39;94.8&#39;,\n &#39;max_population&#39;: &#39;1650000000&#39;,\n &#39;max_tsunami&#39;: &#39;1060000.0&#39;}"
     },
     "metadata": {},
     "execution_count": 21
    }
   ],
   "source": [
    "max_values"
   ]
  },
  {
   "cell_type": "code",
   "execution_count": 27,
   "metadata": {},
   "outputs": [],
   "source": [
    "final = json.dumps(ans)\n",
    "final_max = json.dumps(max_values)"
   ]
  },
  {
   "cell_type": "code",
   "execution_count": 29,
   "metadata": {},
   "outputs": [],
   "source": [
    "with open(\"sample.json\", \"w\") as outfile: \n",
    "    outfile.write(final) \n",
    "\n",
    "with open(\"max_values.json\", \"w\") as outfile: \n",
    "    outfile.write(final_max) "
   ]
  },
  {
   "cell_type": "code",
   "execution_count": 249,
   "metadata": {},
   "outputs": [
    {
     "output_type": "execute_result",
     "data": {
      "text/plain": "True"
     },
     "metadata": {},
     "execution_count": 249
    }
   ],
   "source": [
    "tsunami.columns.contains(\"2004\")"
   ]
  },
  {
   "cell_type": "code",
   "execution_count": 234,
   "metadata": {},
   "outputs": [
    {
     "output_type": "execute_result",
     "data": {
      "text/plain": "True"
     },
     "metadata": {},
     "execution_count": 234
    }
   ],
   "source": [
    "tsunami.columns.contains('country')"
   ]
  },
  {
   "cell_type": "code",
   "execution_count": 333,
   "metadata": {},
   "outputs": [
    {
     "output_type": "execute_result",
     "data": {
      "text/plain": "str"
     },
     "metadata": {},
     "execution_count": 333
    }
   ],
   "source": [
    "regions['World bank region'][regions['World bank region'][regions['name'] == 'Zimbabwe'].index[0]]"
   ]
  },
  {
   "cell_type": "code",
   "execution_count": 364,
   "metadata": {},
   "outputs": [
    {
     "output_type": "execute_result",
     "data": {
      "text/plain": "&#39;Sub-Saharan Africa&#39;"
     },
     "metadata": {},
     "execution_count": 364
    }
   ],
   "source": [
    "regions['World bank region'][regions['World bank region'][regions['name'] == 'Zimbabwe'].index[0]]"
   ]
  },
  {
   "cell_type": "code",
   "execution_count": 372,
   "metadata": {},
   "outputs": [
    {
     "output_type": "execute_result",
     "data": {
      "text/plain": "2710"
     },
     "metadata": {},
     "execution_count": 372
    }
   ],
   "source": [
    "income[str(2000)][income.index[income['country'].str.contains(\"India\")][0]]"
   ]
  },
  {
   "cell_type": "code",
   "execution_count": 26,
   "metadata": {},
   "outputs": [
    {
     "output_type": "execute_result",
     "data": {
      "text/plain": "196"
     },
     "metadata": {},
     "execution_count": 26
    }
   ],
   "source": [
    "regions[regions['name'] == str(i)].index[0]"
   ]
  },
  {
   "cell_type": "code",
   "execution_count": 23,
   "metadata": {},
   "outputs": [
    {
     "output_type": "execute_result",
     "data": {
      "text/plain": "0      False\n1      False\n2      False\n3      False\n4      False\n5      False\n6      False\n7      False\n8      False\n9      False\n10     False\n11     False\n12     False\n13     False\n14     False\n15     False\n16     False\n17     False\n18     False\n19     False\n20     False\n21     False\n22     False\n23     False\n24     False\n25     False\n26     False\n27     False\n28     False\n29     False\n       ...  \n167    False\n168    False\n169    False\n170    False\n171    False\n172    False\n173    False\n174    False\n175    False\n176    False\n177    False\n178    False\n179    False\n180    False\n181    False\n182    False\n183    False\n184    False\n185    False\n186    False\n187    False\n188    False\n189    False\n190    False\n191    False\n192    False\n193    False\n194    False\n195    False\n196     True\nName: name, Length: 197, dtype: bool"
     },
     "metadata": {},
     "execution_count": 23
    }
   ],
   "source": [
    "regions['name'] == str(i)"
   ]
  },
  {
   "cell_type": "code",
   "execution_count": 25,
   "metadata": {},
   "outputs": [
    {
     "output_type": "execute_result",
     "data": {
      "text/plain": "196"
     },
     "metadata": {},
     "execution_count": 25
    }
   ],
   "source": [
    "regions[regions['name'] == str(i)].index[0]"
   ]
  },
  {
   "cell_type": "code",
   "execution_count": null,
   "metadata": {},
   "outputs": [],
   "source": []
  }
 ]
}